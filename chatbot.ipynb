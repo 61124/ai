{
 "cells": [
  {
   "cell_type": "code",
   "execution_count": 4,
   "id": "bda127f6-7c8a-4245-87c5-5048a5cdf0d4",
   "metadata": {},
   "outputs": [
    {
     "name": "stdout",
     "output_type": "stream",
     "text": [
      "Hey there! I am Heisenberg at your service.\n"
     ]
    },
    {
     "name": "stdin",
     "output_type": "stream",
     "text": [
      "> how are you ?\n"
     ]
    },
    {
     "name": "stdout",
     "output_type": "stream",
     "text": [
      "I'm doing good. How about you?\n"
     ]
    },
    {
     "name": "stdin",
     "output_type": "stream",
     "text": [
      "> I am fine\n"
     ]
    },
    {
     "name": "stdout",
     "output_type": "stream",
     "text": [
      "Great to hear that! How can I help you?\n"
     ]
    },
    {
     "name": "stdin",
     "output_type": "stream",
     "text": [
      "> what is your age?\n"
     ]
    },
    {
     "name": "stdout",
     "output_type": "stream",
     "text": [
      "I'm a computer program, dude. Seriously, you're asking me this?\n"
     ]
    },
    {
     "name": "stdin",
     "output_type": "stream",
     "text": [
      "> who created you?\n"
     ]
    },
    {
     "name": "stdout",
     "output_type": "stream",
     "text": [
      "Top secret ;)\n"
     ]
    },
    {
     "name": "stdin",
     "output_type": "stream",
     "text": [
      "> who is the best moviestar according to you?\n"
     ]
    },
    {
     "name": "stdout",
     "output_type": "stream",
     "text": [
      "Brad Pitt\n"
     ]
    },
    {
     "name": "stdin",
     "output_type": "stream",
     "text": [
      "> quit\n"
     ]
    },
    {
     "name": "stdout",
     "output_type": "stream",
     "text": [
      "Thank you for using our intelligence services!\n"
     ]
    }
   ],
   "source": [
    "import nltk\n",
    "from nltk.chat.util import Chat, reflections\n",
    "\n",
    "pairs = [\n",
    "    [r\"my name is (.*)\", [\"Hello %1, How are you?\"]],\n",
    "    [r\"Hi|Hello|Hey there|Hola\", [\"Hello! My name is Heisenberg.\"]],\n",
    "    [r\"what is your name ?\", [\"I am a bot created by Heisenberg. You can call me Crazy!\"]],\n",
    "    [r\"how are you ?\", [\"I'm doing good. How about you?\"]],\n",
    "    [r\"sorry (.*)\", [\"It's alright.\", \"It's OK, never mind.\"]],\n",
    "    [r\"I am fine\", [\"Great to hear that! How can I help you?\"]],\n",
    "    [r\"I (.*) good\", [\"Nice to hear that!\", \"How can I help you? :)\"]],\n",
    "    [r\"(.*) age?\", [\"I'm a computer program, dude. Seriously, you're asking me this?\"]],\n",
    "    [r\"what (.*) want ?\", [\"Make me an offer I can't refuse.\"]],\n",
    "    [r\"(.*) created ?\", [\"PVG TE Computer students created me using Python's NLTK library.\", \"Top secret ;)\"]],\n",
    "    [r\"(.*) (location|city) ?\", [\"Indore, Madhya Pradesh\"]],\n",
    "    [r\"how is the weather in (.*)?\", [\"Weather in %1 is awesome as always.\", \"Too hot here in %1.\", \"Too cold here in %1.\", \"Never even heard about %1.\"]],\n",
    "    [r\"i work in (.*)?\", [\"%1 is an amazing company! But I heard they are in huge loss these days.\"]],\n",
    "    [r\"(.*) raining in (.*)\", [\"No rain since last week in %2.\", \"Damn, it's raining too much in %2!\"]],\n",
    "    [r\"how (.*) health(.*)\", [\"I'm a computer program, so I'm always healthy!\"]],\n",
    "    [r\"(.*) (sports|game) ?\", [\"I'm a big fan of football.\"]],\n",
    "    [r\"who (.*) sportsperson ?\", [\"Messi\", \"Ronaldo\", \"Rooney\"]],\n",
    "    [r\"who (.*) (moviestar|actor)?\", [\"Brad Pitt\"]],\n",
    "    [r\"i am looking for online guides and courses to learn data science, can you suggest?\", [\"Crazy_Tech has many great articles with step-by-step explanations along with code. You can explore them!\"]],\n",
    "    [r\"quit\", [\"Thank you for using our intelligence services!\"]],\n",
    "]\n",
    "\n",
    "def chat():\n",
    "    print(\"Hey there! I am Heisenberg at your service.\")\n",
    "    chat = Chat(pairs, reflections)\n",
    "    chat.converse()\n",
    "\n",
    "if __name__ == \"__main__\":\n",
    "    chat()\n"
   ]
  },
  {
   "cell_type": "code",
   "execution_count": null,
   "id": "bba4c0d2-5397-4255-b593-a972863e22a9",
   "metadata": {},
   "outputs": [],
   "source": []
  }
 ],
 "metadata": {
  "kernelspec": {
   "display_name": "Python 3 (ipykernel)",
   "language": "python",
   "name": "python3"
  },
  "language_info": {
   "codemirror_mode": {
    "name": "ipython",
    "version": 3
   },
   "file_extension": ".py",
   "mimetype": "text/x-python",
   "name": "python",
   "nbconvert_exporter": "python",
   "pygments_lexer": "ipython3",
   "version": "3.12.6"
  }
 },
 "nbformat": 4,
 "nbformat_minor": 5
}
